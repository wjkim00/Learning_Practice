{
 "cells": [
  {
   "cell_type": "code",
   "execution_count": 1,
   "metadata": {},
   "outputs": [],
   "source": [
    "from sklearn.datasets import fetch_california_housing\n",
    "\n",
    "housing = fetch_california_housing()\n",
    "X = housing[\"data\"]\n",
    "y = housing[\"target\"]"
   ]
  },
  {
   "cell_type": "code",
   "execution_count": 2,
   "metadata": {},
   "outputs": [],
   "source": [
    "from sklearn.model_selection import train_test_split\n",
    "\n",
    "X_train, X_test, y_train, y_test = train_test_split(X, y, test_size=0.2, random_state=42)"
   ]
  },
  {
   "cell_type": "code",
   "execution_count": 3,
   "metadata": {},
   "outputs": [],
   "source": [
    "from sklearn.preprocessing import StandardScaler\n",
    "\n",
    "scaler = StandardScaler()\n",
    "X_train_scaled = scaler.fit_transform(X_train)\n",
    "X_test_scaled = scaler.transform(X_test)"
   ]
  },
  {
   "cell_type": "code",
   "execution_count": 4,
   "metadata": {},
   "outputs": [
    {
     "name": "stderr",
     "output_type": "stream",
     "text": [
      "/home/wjkim/anaconda3/lib/python3.7/site-packages/sklearn/svm/_base.py:977: ConvergenceWarning: Liblinear failed to converge, increase the number of iterations.\n",
      "  \"the number of iterations.\", ConvergenceWarning)\n"
     ]
    },
    {
     "data": {
      "text/plain": [
       "LinearSVR(random_state=42)"
      ]
     },
     "execution_count": 4,
     "metadata": {},
     "output_type": "execute_result"
    }
   ],
   "source": [
    "from sklearn.svm import LinearSVR\n",
    "\n",
    "lin_svr = LinearSVR(random_state=42)\n",
    "lin_svr.fit(X_train_scaled, y_train)"
   ]
  },
  {
   "cell_type": "code",
   "execution_count": 5,
   "metadata": {},
   "outputs": [
    {
     "name": "stdout",
     "output_type": "stream",
     "text": [
      "0.9641780189948642\n"
     ]
    }
   ],
   "source": [
    "from sklearn.metrics import mean_squared_error\n",
    "\n",
    "y_pred = lin_svr.predict(X_train_scaled)\n",
    "mse = mean_squared_error(y_train, y_pred)\n",
    "print(mse)"
   ]
  },
  {
   "cell_type": "code",
   "execution_count": 7,
   "metadata": {},
   "outputs": [
    {
     "data": {
      "text/plain": [
       "0.9819256687727764"
      ]
     },
     "execution_count": 7,
     "metadata": {},
     "output_type": "execute_result"
    }
   ],
   "source": [
    "import numpy as np\n",
    "np.sqrt(mse) # RMSE"
   ]
  },
  {
   "cell_type": "markdown",
   "metadata": {},
   "source": [
    "#### Using RBF kernel"
   ]
  },
  {
   "cell_type": "code",
   "execution_count": 8,
   "metadata": {},
   "outputs": [
    {
     "name": "stdout",
     "output_type": "stream",
     "text": [
      "Fitting 3 folds for each of 10 candidates, totalling 30 fits\n",
      "[CV] C=4.745401188473625, gamma=0.07969454818643928 ..................\n"
     ]
    },
    {
     "name": "stderr",
     "output_type": "stream",
     "text": [
      "[Parallel(n_jobs=1)]: Using backend SequentialBackend with 1 concurrent workers.\n"
     ]
    },
    {
     "name": "stdout",
     "output_type": "stream",
     "text": [
      "[CV] ... C=4.745401188473625, gamma=0.07969454818643928, total=   5.0s\n",
      "[CV] C=4.745401188473625, gamma=0.07969454818643928 ..................\n"
     ]
    },
    {
     "name": "stderr",
     "output_type": "stream",
     "text": [
      "[Parallel(n_jobs=1)]: Done   1 out of   1 | elapsed:    5.0s remaining:    0.0s\n"
     ]
    },
    {
     "name": "stdout",
     "output_type": "stream",
     "text": [
      "[CV] ... C=4.745401188473625, gamma=0.07969454818643928, total=   4.9s\n",
      "[CV] C=4.745401188473625, gamma=0.07969454818643928 ..................\n",
      "[CV] ... C=4.745401188473625, gamma=0.07969454818643928, total=   5.0s\n",
      "[CV] C=8.31993941811405, gamma=0.015751320499779724 ..................\n",
      "[CV] ... C=8.31993941811405, gamma=0.015751320499779724, total=   4.7s\n",
      "[CV] C=8.31993941811405, gamma=0.015751320499779724 ..................\n",
      "[CV] ... C=8.31993941811405, gamma=0.015751320499779724, total=   4.6s\n",
      "[CV] C=8.31993941811405, gamma=0.015751320499779724 ..................\n",
      "[CV] ... C=8.31993941811405, gamma=0.015751320499779724, total=   4.7s\n",
      "[CV] C=2.560186404424365, gamma=0.002051110418843397 .................\n",
      "[CV] .. C=2.560186404424365, gamma=0.002051110418843397, total=   4.3s\n",
      "[CV] C=2.560186404424365, gamma=0.002051110418843397 .................\n",
      "[CV] .. C=2.560186404424365, gamma=0.002051110418843397, total=   4.3s\n",
      "[CV] C=2.560186404424365, gamma=0.002051110418843397 .................\n",
      "[CV] .. C=2.560186404424365, gamma=0.002051110418843397, total=   4.3s\n",
      "[CV] C=1.5808361216819946, gamma=0.05399484409787431 .................\n",
      "[CV] .. C=1.5808361216819946, gamma=0.05399484409787431, total=   4.3s\n",
      "[CV] C=1.5808361216819946, gamma=0.05399484409787431 .................\n",
      "[CV] .. C=1.5808361216819946, gamma=0.05399484409787431, total=   4.3s\n",
      "[CV] C=1.5808361216819946, gamma=0.05399484409787431 .................\n",
      "[CV] .. C=1.5808361216819946, gamma=0.05399484409787431, total=   4.3s\n",
      "[CV] C=7.011150117432088, gamma=0.026070247583707663 .................\n",
      "[CV] .. C=7.011150117432088, gamma=0.026070247583707663, total=   4.8s\n",
      "[CV] C=7.011150117432088, gamma=0.026070247583707663 .................\n",
      "[CV] .. C=7.011150117432088, gamma=0.026070247583707663, total=   4.7s\n",
      "[CV] C=7.011150117432088, gamma=0.026070247583707663 .................\n",
      "[CV] .. C=7.011150117432088, gamma=0.026070247583707663, total=   4.7s\n",
      "[CV] C=1.2058449429580245, gamma=0.0870602087830485 ..................\n",
      "[CV] ... C=1.2058449429580245, gamma=0.0870602087830485, total=   4.3s\n",
      "[CV] C=1.2058449429580245, gamma=0.0870602087830485 ..................\n",
      "[CV] ... C=1.2058449429580245, gamma=0.0870602087830485, total=   4.3s\n",
      "[CV] C=1.2058449429580245, gamma=0.0870602087830485 ..................\n",
      "[CV] ... C=1.2058449429580245, gamma=0.0870602087830485, total=   4.2s\n",
      "[CV] C=9.324426408004218, gamma=0.0026587543983272693 ................\n",
      "[CV] . C=9.324426408004218, gamma=0.0026587543983272693, total=   4.4s\n",
      "[CV] C=9.324426408004218, gamma=0.0026587543983272693 ................\n",
      "[CV] . C=9.324426408004218, gamma=0.0026587543983272693, total=   4.4s\n",
      "[CV] C=9.324426408004218, gamma=0.0026587543983272693 ................\n",
      "[CV] . C=9.324426408004218, gamma=0.0026587543983272693, total=   4.3s\n",
      "[CV] C=2.818249672071006, gamma=0.0023270677083837795 ................\n",
      "[CV] . C=2.818249672071006, gamma=0.0023270677083837795, total=   4.3s\n",
      "[CV] C=2.818249672071006, gamma=0.0023270677083837795 ................\n",
      "[CV] . C=2.818249672071006, gamma=0.0023270677083837795, total=   4.3s\n",
      "[CV] C=2.818249672071006, gamma=0.0023270677083837795 ................\n",
      "[CV] . C=2.818249672071006, gamma=0.0023270677083837795, total=   4.3s\n",
      "[CV] C=4.042422429595377, gamma=0.011207606211860567 .................\n",
      "[CV] .. C=4.042422429595377, gamma=0.011207606211860567, total=   4.4s\n",
      "[CV] C=4.042422429595377, gamma=0.011207606211860567 .................\n",
      "[CV] .. C=4.042422429595377, gamma=0.011207606211860567, total=   4.5s\n",
      "[CV] C=4.042422429595377, gamma=0.011207606211860567 .................\n",
      "[CV] .. C=4.042422429595377, gamma=0.011207606211860567, total=   4.5s\n",
      "[CV] C=5.319450186421157, gamma=0.003823475224675185 .................\n",
      "[CV] .. C=5.319450186421157, gamma=0.003823475224675185, total=   4.4s\n",
      "[CV] C=5.319450186421157, gamma=0.003823475224675185 .................\n",
      "[CV] .. C=5.319450186421157, gamma=0.003823475224675185, total=   4.3s\n",
      "[CV] C=5.319450186421157, gamma=0.003823475224675185 .................\n",
      "[CV] .. C=5.319450186421157, gamma=0.003823475224675185, total=   4.4s\n"
     ]
    },
    {
     "name": "stderr",
     "output_type": "stream",
     "text": [
      "[Parallel(n_jobs=1)]: Done  30 out of  30 | elapsed:  2.2min finished\n"
     ]
    },
    {
     "data": {
      "text/plain": [
       "RandomizedSearchCV(cv=3, estimator=SVR(),\n",
       "                   param_distributions={'C': <scipy.stats._distn_infrastructure.rv_frozen object at 0x7fbafc85cef0>,\n",
       "                                        'gamma': <scipy.stats._distn_infrastructure.rv_frozen object at 0x7fbafc85c4a8>},\n",
       "                   random_state=42, verbose=2)"
      ]
     },
     "execution_count": 8,
     "metadata": {},
     "output_type": "execute_result"
    }
   ],
   "source": [
    "from sklearn.svm import SVR\n",
    "from sklearn.model_selection import RandomizedSearchCV\n",
    "from scipy.stats import reciprocal, uniform\n",
    "\n",
    "param_distributions = {\"gamma\": reciprocal(0.001, 0.1), \"C\": uniform(1, 10)}\n",
    "rnd_search_cv = RandomizedSearchCV(SVR(), param_distributions, n_iter=10, verbose=2, cv=3, random_state=42)\n",
    "rnd_search_cv.fit(X_train_scaled, y_train)"
   ]
  },
  {
   "cell_type": "code",
   "execution_count": 9,
   "metadata": {},
   "outputs": [
    {
     "name": "stdout",
     "output_type": "stream",
     "text": [
      "SVR(C=4.745401188473625, gamma=0.07969454818643928)\n"
     ]
    }
   ],
   "source": [
    "print(rnd_search_cv.best_estimator_)"
   ]
  },
  {
   "cell_type": "code",
   "execution_count": 11,
   "metadata": {},
   "outputs": [
    {
     "name": "stdout",
     "output_type": "stream",
     "text": [
      "0.3280453999995984 0.5727524770785356\n"
     ]
    }
   ],
   "source": [
    "y_pred = rnd_search_cv.best_estimator_.predict(X_train_scaled)\n",
    "mse = mean_squared_error(y_train, y_pred)\n",
    "print(mse, np.sqrt(mse))"
   ]
  },
  {
   "cell_type": "code",
   "execution_count": 12,
   "metadata": {},
   "outputs": [
    {
     "data": {
      "text/plain": [
       "0.592916838552874"
      ]
     },
     "execution_count": 12,
     "metadata": {},
     "output_type": "execute_result"
    }
   ],
   "source": [
    "y_pred = rnd_search_cv.best_estimator_.predict(X_test_scaled)\n",
    "mse = mean_squared_error(y_test, y_pred)\n",
    "np.sqrt(mse)"
   ]
  }
 ],
 "metadata": {
  "kernelspec": {
   "display_name": "Python 3",
   "language": "python",
   "name": "python3"
  },
  "language_info": {
   "codemirror_mode": {
    "name": "ipython",
    "version": 3
   },
   "file_extension": ".py",
   "mimetype": "text/x-python",
   "name": "python",
   "nbconvert_exporter": "python",
   "pygments_lexer": "ipython3",
   "version": "3.7.3"
  }
 },
 "nbformat": 4,
 "nbformat_minor": 2
}
