{
 "cells": [
  {
   "cell_type": "code",
   "execution_count": 2,
   "metadata": {},
   "outputs": [],
   "source": [
    "import numpy as np\n",
    "from sklearn.datasets import fetch_openml\n",
    "mnist = fetch_openml('mnist_784', version=1, cache=True)\n",
    "\n",
    "X = mnist[\"data\"]\n",
    "y = mnist[\"target\"].astype(np.uint8)\n",
    "\n",
    "X_train = X[:60000]\n",
    "y_train = y[:60000]\n",
    "X_test = X[60000:]\n",
    "y_test = y[60000:]"
   ]
  },
  {
   "cell_type": "code",
   "execution_count": 4,
   "metadata": {},
   "outputs": [
    {
     "name": "stderr",
     "output_type": "stream",
     "text": [
      "/home/wjkim/anaconda3/lib/python3.7/site-packages/sklearn/svm/_base.py:977: ConvergenceWarning: Liblinear failed to converge, increase the number of iterations.\n",
      "  \"the number of iterations.\", ConvergenceWarning)\n"
     ]
    },
    {
     "data": {
      "text/plain": [
       "LinearSVC(random_state=42)"
      ]
     },
     "execution_count": 4,
     "metadata": {},
     "output_type": "execute_result"
    }
   ],
   "source": [
    "from sklearn.svm import LinearSVC\n",
    "\n",
    "lin_clf = LinearSVC(random_state=42)\n",
    "lin_clf.fit(X_train, y_train)"
   ]
  },
  {
   "cell_type": "code",
   "execution_count": 5,
   "metadata": {},
   "outputs": [
    {
     "data": {
      "text/plain": [
       "0.8348666666666666"
      ]
     },
     "execution_count": 5,
     "metadata": {},
     "output_type": "execute_result"
    }
   ],
   "source": [
    "from sklearn.metrics import accuracy_score\n",
    "\n",
    "y_pred = lin_clf.predict(X_train)\n",
    "accuracy_score(y_train, y_pred)"
   ]
  },
  {
   "cell_type": "code",
   "execution_count": 7,
   "metadata": {},
   "outputs": [],
   "source": [
    "from sklearn.preprocessing import StandardScaler\n",
    "\n",
    "scaler = StandardScaler()\n",
    "X_train_scaled = scaler.fit_transform(X_train.astype(np.float32))\n",
    "X_test_scaled = scaler.transform(X_test.astype(np.float32))"
   ]
  },
  {
   "cell_type": "code",
   "execution_count": 8,
   "metadata": {},
   "outputs": [
    {
     "name": "stderr",
     "output_type": "stream",
     "text": [
      "/home/wjkim/anaconda3/lib/python3.7/site-packages/sklearn/svm/_base.py:977: ConvergenceWarning: Liblinear failed to converge, increase the number of iterations.\n",
      "  \"the number of iterations.\", ConvergenceWarning)\n"
     ]
    },
    {
     "data": {
      "text/plain": [
       "LinearSVC(random_state=42)"
      ]
     },
     "execution_count": 8,
     "metadata": {},
     "output_type": "execute_result"
    }
   ],
   "source": [
    "lin_clf.fit(X_train_scaled, y_train)"
   ]
  },
  {
   "cell_type": "code",
   "execution_count": 10,
   "metadata": {},
   "outputs": [
    {
     "data": {
      "text/plain": [
       "0.9217333333333333"
      ]
     },
     "execution_count": 10,
     "metadata": {},
     "output_type": "execute_result"
    }
   ],
   "source": [
    "y_pred = lin_clf.predict(X_train_scaled)\n",
    "accuracy_score(y_train, y_pred)"
   ]
  },
  {
   "cell_type": "code",
   "execution_count": 12,
   "metadata": {},
   "outputs": [
    {
     "data": {
      "text/plain": [
       "SVC()"
      ]
     },
     "execution_count": 12,
     "metadata": {},
     "output_type": "execute_result"
    }
   ],
   "source": [
    "from sklearn.svm import SVC\n",
    "\n",
    "svm_clf = SVC(gamma=\"scale\")\n",
    "svm_clf.fit(X_train_scaled[:10000], y_train[:10000])"
   ]
  },
  {
   "cell_type": "code",
   "execution_count": 13,
   "metadata": {},
   "outputs": [
    {
     "data": {
      "text/plain": [
       "0.9455333333333333"
      ]
     },
     "execution_count": 13,
     "metadata": {},
     "output_type": "execute_result"
    }
   ],
   "source": [
    "y_pred = svm_clf.predict(X_train_scaled)\n",
    "accuracy_score(y_train, y_pred)"
   ]
  },
  {
   "cell_type": "markdown",
   "metadata": {},
   "source": [
    "#### Hyper parameter tuning - Cross validation"
   ]
  },
  {
   "cell_type": "code",
   "execution_count": 16,
   "metadata": {},
   "outputs": [
    {
     "name": "stdout",
     "output_type": "stream",
     "text": [
      "Fitting 3 folds for each of 10 candidates, totalling 30 fits\n",
      "[CV] C=6.736883323311979, gamma=0.011681728334188778 .................\n"
     ]
    },
    {
     "name": "stderr",
     "output_type": "stream",
     "text": [
      "[Parallel(n_jobs=1)]: Using backend SequentialBackend with 1 concurrent workers.\n"
     ]
    },
    {
     "name": "stdout",
     "output_type": "stream",
     "text": [
      "[CV] .. C=6.736883323311979, gamma=0.011681728334188778, total=   0.8s\n",
      "[CV] C=6.736883323311979, gamma=0.011681728334188778 .................\n"
     ]
    },
    {
     "name": "stderr",
     "output_type": "stream",
     "text": [
      "[Parallel(n_jobs=1)]: Done   1 out of   1 | elapsed:    0.8s remaining:    0.0s\n"
     ]
    },
    {
     "name": "stdout",
     "output_type": "stream",
     "text": [
      "[CV] .. C=6.736883323311979, gamma=0.011681728334188778, total=   0.9s\n",
      "[CV] C=6.736883323311979, gamma=0.011681728334188778 .................\n",
      "[CV] .. C=6.736883323311979, gamma=0.011681728334188778, total=   0.9s\n",
      "[CV] C=4.372938092810314, gamma=0.023512002458857557 .................\n",
      "[CV] .. C=4.372938092810314, gamma=0.023512002458857557, total=   0.9s\n",
      "[CV] C=4.372938092810314, gamma=0.023512002458857557 .................\n",
      "[CV] .. C=4.372938092810314, gamma=0.023512002458857557, total=   0.9s\n",
      "[CV] C=4.372938092810314, gamma=0.023512002458857557 .................\n",
      "[CV] .. C=4.372938092810314, gamma=0.023512002458857557, total=   0.9s\n",
      "[CV] C=6.678848834087709, gamma=0.028795016720235374 .................\n",
      "[CV] .. C=6.678848834087709, gamma=0.028795016720235374, total=   0.8s\n",
      "[CV] C=6.678848834087709, gamma=0.028795016720235374 .................\n",
      "[CV] .. C=6.678848834087709, gamma=0.028795016720235374, total=   0.9s\n",
      "[CV] C=6.678848834087709, gamma=0.028795016720235374 .................\n",
      "[CV] .. C=6.678848834087709, gamma=0.028795016720235374, total=   0.8s\n",
      "[CV] C=9.758769757116037, gamma=0.03141900088126814 ..................\n",
      "[CV] ... C=9.758769757116037, gamma=0.03141900088126814, total=   0.8s\n",
      "[CV] C=9.758769757116037, gamma=0.03141900088126814 ..................\n",
      "[CV] ... C=9.758769757116037, gamma=0.03141900088126814, total=   0.9s\n",
      "[CV] C=9.758769757116037, gamma=0.03141900088126814 ..................\n",
      "[CV] ... C=9.758769757116037, gamma=0.03141900088126814, total=   0.9s\n",
      "[CV] C=10.94653227048457, gamma=0.0032378494777024077 ................\n",
      "[CV] . C=10.94653227048457, gamma=0.0032378494777024077, total=   0.8s\n",
      "[CV] C=10.94653227048457, gamma=0.0032378494777024077 ................\n",
      "[CV] . C=10.94653227048457, gamma=0.0032378494777024077, total=   0.8s\n",
      "[CV] C=10.94653227048457, gamma=0.0032378494777024077 ................\n",
      "[CV] . C=10.94653227048457, gamma=0.0032378494777024077, total=   0.8s\n",
      "[CV] C=5.206536736528779, gamma=0.04740517941216306 ..................\n",
      "[CV] ... C=5.206536736528779, gamma=0.04740517941216306, total=   0.8s\n",
      "[CV] C=5.206536736528779, gamma=0.04740517941216306 ..................\n",
      "[CV] ... C=5.206536736528779, gamma=0.04740517941216306, total=   0.9s\n",
      "[CV] C=5.206536736528779, gamma=0.04740517941216306 ..................\n",
      "[CV] ... C=5.206536736528779, gamma=0.04740517941216306, total=   0.9s\n",
      "[CV] C=6.615910315946664, gamma=0.001371552890905965 .................\n",
      "[CV] .. C=6.615910315946664, gamma=0.001371552890905965, total=   0.6s\n",
      "[CV] C=6.615910315946664, gamma=0.001371552890905965 .................\n",
      "[CV] .. C=6.615910315946664, gamma=0.001371552890905965, total=   0.6s\n",
      "[CV] C=6.615910315946664, gamma=0.001371552890905965 .................\n",
      "[CV] .. C=6.615910315946664, gamma=0.001371552890905965, total=   0.6s\n",
      "[CV] C=6.096030959274111, gamma=0.004104496279662584 .................\n",
      "[CV] .. C=6.096030959274111, gamma=0.004104496279662584, total=   0.8s\n",
      "[CV] C=6.096030959274111, gamma=0.004104496279662584 .................\n",
      "[CV] .. C=6.096030959274111, gamma=0.004104496279662584, total=   0.8s\n",
      "[CV] C=6.096030959274111, gamma=0.004104496279662584 .................\n",
      "[CV] .. C=6.096030959274111, gamma=0.004104496279662584, total=   0.8s\n",
      "[CV] C=6.007317003620329, gamma=0.05854744799712226 ..................\n",
      "[CV] ... C=6.007317003620329, gamma=0.05854744799712226, total=   0.9s\n",
      "[CV] C=6.007317003620329, gamma=0.05854744799712226 ..................\n",
      "[CV] ... C=6.007317003620329, gamma=0.05854744799712226, total=   0.9s\n",
      "[CV] C=6.007317003620329, gamma=0.05854744799712226 ..................\n",
      "[CV] ... C=6.007317003620329, gamma=0.05854744799712226, total=   0.9s\n",
      "[CV] C=7.713486992533543, gamma=0.021763115473282447 .................\n",
      "[CV] .. C=7.713486992533543, gamma=0.021763115473282447, total=   0.9s\n",
      "[CV] C=7.713486992533543, gamma=0.021763115473282447 .................\n",
      "[CV] .. C=7.713486992533543, gamma=0.021763115473282447, total=   0.9s\n",
      "[CV] C=7.713486992533543, gamma=0.021763115473282447 .................\n",
      "[CV] .. C=7.713486992533543, gamma=0.021763115473282447, total=   0.9s\n"
     ]
    },
    {
     "name": "stderr",
     "output_type": "stream",
     "text": [
      "[Parallel(n_jobs=1)]: Done  30 out of  30 | elapsed:   24.6s finished\n"
     ]
    },
    {
     "data": {
      "text/plain": [
       "RandomizedSearchCV(cv=3, estimator=SVC(),\n",
       "                   param_distributions={'C': <scipy.stats._distn_infrastructure.rv_frozen object at 0x7f59af2f6160>,\n",
       "                                        'gamma': <scipy.stats._distn_infrastructure.rv_frozen object at 0x7f59ab901cf8>},\n",
       "                   verbose=2)"
      ]
     },
     "execution_count": 16,
     "metadata": {},
     "output_type": "execute_result"
    }
   ],
   "source": [
    "from sklearn.model_selection import RandomizedSearchCV\n",
    "from scipy.stats import reciprocal, uniform\n",
    "\n",
    "param_distributions = {\"gamma\": reciprocal(0.001, 0.1), \"C\": uniform(1, 10)}\n",
    "rnd_search_cv = RandomizedSearchCV(svm_clf, param_distributions, n_iter=10, verbose=2, cv=3)\n",
    "rnd_search_cv.fit(X_train_scaled[:1000], y_train[:1000])"
   ]
  },
  {
   "cell_type": "code",
   "execution_count": 17,
   "metadata": {},
   "outputs": [
    {
     "name": "stdout",
     "output_type": "stream",
     "text": [
      "SVC(C=6.615910315946664, gamma=0.001371552890905965)\n"
     ]
    }
   ],
   "source": [
    "print(rnd_search_cv.best_estimator_)"
   ]
  },
  {
   "cell_type": "code",
   "execution_count": 18,
   "metadata": {},
   "outputs": [
    {
     "name": "stdout",
     "output_type": "stream",
     "text": [
      "0.8629917342492193\n"
     ]
    }
   ],
   "source": [
    "print(rnd_search_cv.best_score_)"
   ]
  },
  {
   "cell_type": "code",
   "execution_count": 19,
   "metadata": {},
   "outputs": [
    {
     "data": {
      "text/plain": [
       "SVC(C=6.615910315946664, gamma=0.001371552890905965)"
      ]
     },
     "execution_count": 19,
     "metadata": {},
     "output_type": "execute_result"
    }
   ],
   "source": [
    "rnd_search_cv.best_estimator_.fit(X_train_scaled, y_train)"
   ]
  },
  {
   "cell_type": "code",
   "execution_count": 20,
   "metadata": {},
   "outputs": [
    {
     "data": {
      "text/plain": [
       "0.9984666666666666"
      ]
     },
     "execution_count": 20,
     "metadata": {},
     "output_type": "execute_result"
    }
   ],
   "source": [
    "y_pred = rnd_search_cvsearch_cv.best_estimator_.predict(X_train_scaled)\n",
    "accuracy_score(y_train, y_pred)"
   ]
  },
  {
   "cell_type": "code",
   "execution_count": 21,
   "metadata": {},
   "outputs": [
    {
     "data": {
      "text/plain": [
       "0.9728"
      ]
     },
     "execution_count": 21,
     "metadata": {},
     "output_type": "execute_result"
    }
   ],
   "source": [
    "y_pred = rnd_search_cv.best_estimator_.predict(X_test_scaled)\n",
    "accuracy_score(y_test, y_pred)"
   ]
  }
 ],
 "metadata": {
  "kernelspec": {
   "display_name": "Python 3",
   "language": "python",
   "name": "python3"
  },
  "language_info": {
   "codemirror_mode": {
    "name": "ipython",
    "version": 3
   },
   "file_extension": ".py",
   "mimetype": "text/x-python",
   "name": "python",
   "nbconvert_exporter": "python",
   "pygments_lexer": "ipython3",
   "version": "3.7.3"
  }
 },
 "nbformat": 4,
 "nbformat_minor": 2
}
